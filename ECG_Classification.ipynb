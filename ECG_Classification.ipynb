{
  "cells": [
    {
      "metadata": {
        "id": "lqxDTHAd276r"
      },
      "cell_type": "markdown",
      "source": [
        "# ECG Classification"
      ]
    },
    {
      "metadata": {
        "_uuid": "8f2839f25d086af736a60e9eeb907d3b93b6e0e5",
        "_cell_guid": "b1076dfc-b9ad-4769-8c92-a6c4dae69d19",
        "trusted": true,
        "collapsed": true,
        "id": "kSS_JHOy276u"
      },
      "cell_type": "code",
      "source": [
        "import os\n",
        "print(os.listdir(\"../input\"))"
      ],
      "execution_count": null,
      "outputs": []
    },
    {
      "metadata": {
        "trusted": true,
        "collapsed": true,
        "id": "Iuz7q-bo276v"
      },
      "cell_type": "code",
      "source": [
        "# import libraries\n",
        "import math\n",
        "import random\n",
        "import pickle\n",
        "import itertools\n",
        "import numpy as np\n",
        "import pandas as pd\n",
        "import matplotlib.pyplot as plt\n",
        "np.random.seed(42)"
      ],
      "execution_count": null,
      "outputs": []
    },
    {
      "metadata": {
        "trusted": true,
        "collapsed": true,
        "id": "qluxJUOr276w"
      },
      "cell_type": "code",
      "source": [
        "from sklearn.metrics import accuracy_score, classification_report, confusion_matrix, label_ranking_average_precision_score, label_ranking_loss, coverage_error\n",
        "from sklearn.utils import shuffle\n",
        "from scipy.signal import resample\n",
        "from sklearn.preprocessing import OneHotEncoder"
      ],
      "execution_count": null,
      "outputs": []
    },
    {
      "metadata": {
        "trusted": true,
        "collapsed": true,
        "id": "kIJ3M0Rm276w"
      },
      "cell_type": "code",
      "source": [
        "import tensorflow.keras as keras\n",
        "from tensorflow.keras.models import Model\n",
        "from tensorflow.keras.layers import Input, Dense, Conv1D, MaxPooling1D, Softmax, Add, Flatten, Activation, Dropout\n",
        "from tensorflow.keras.callbacks import LearningRateScheduler, ModelCheckpoint\n",
        "from tensorflow.keras.optimizers import Adam"
      ],
      "execution_count": null,
      "outputs": []
    },
    {
      "metadata": {
        "id": "OFb63enF276w"
      },
      "cell_type": "markdown",
      "source": [
        "## Read Dataset"
      ]
    },
    {
      "metadata": {
        "_cell_guid": "79c7e3d0-c299-4dcb-8224-4455121ee9b0",
        "_uuid": "d629ff2d2480ee46fbb7e2d37f6b5fab8052498a",
        "trusted": true,
        "collapsed": true,
        "id": "VDUh4ZaT276x"
      },
      "cell_type": "code",
      "source": [
        "# catenate df and df2 together\n",
        "df = pd.read_csv(\"../input/mitbih_train.csv\", header=None)\n",
        "df2 = pd.read_csv(\"../input/mitbih_test.csv\", header=None)\n",
        "df = pd.concat([df, df2], axis=0)"
      ],
      "execution_count": null,
      "outputs": []
    },
    {
      "metadata": {
        "trusted": true,
        "_uuid": "494fc8a26ba40beb73fc1a4f7b219b213fb7705e",
        "collapsed": true,
        "id": "G2Fuw_br276x"
      },
      "cell_type": "code",
      "source": [
        "df.head()"
      ],
      "execution_count": null,
      "outputs": []
    },
    {
      "metadata": {
        "trusted": true,
        "_uuid": "5281cb19f54f3bd379f875c24ae52b3b15fcafaf",
        "collapsed": true,
        "id": "-LMLa6Vk276y"
      },
      "cell_type": "code",
      "source": [
        "df.info()"
      ],
      "execution_count": null,
      "outputs": []
    },
    {
      "metadata": {
        "trusted": true,
        "collapsed": true,
        "id": "Y6BIkJAV276y"
      },
      "cell_type": "code",
      "source": [
        "# show one data\n",
        "plt.plot(df.iloc[0,:186])"
      ],
      "execution_count": null,
      "outputs": []
    },
    {
      "metadata": {
        "id": "vDRP4h_q276y"
      },
      "cell_type": "markdown",
      "source": [
        "## Dataset Balance"
      ]
    },
    {
      "metadata": {
        "trusted": true,
        "_uuid": "0fac0fb658ea34b48055838b4ad85078e883360d",
        "collapsed": true,
        "id": "s5DdNx80276y"
      },
      "cell_type": "code",
      "source": [
        "equilibre=df[187].value_counts()\n",
        "print(equilibre)"
      ],
      "execution_count": null,
      "outputs": []
    },
    {
      "metadata": {
        "trusted": true,
        "collapsed": true,
        "id": "9N2d4BMa276z"
      },
      "cell_type": "code",
      "source": [
        "# plot the circle of value counts in dataset\n",
        "plt.figure(figsize=(10,10))\n",
        "my_circle=plt.Circle( (0,0), 0.7, color='white')\n",
        "plt.pie(equilibre, labels=['n','q','v','s','f'], colors=['red','green','blue','skyblue','orange'],autopct='%1.1f%%')\n",
        "p=plt.gcf()\n",
        "p.gca().add_artist(my_circle)\n",
        "plt.show()"
      ],
      "execution_count": null,
      "outputs": []
    },
    {
      "metadata": {
        "trusted": true,
        "_uuid": "147b7604bd8a389d7f6aa111f38ae308af7c4eb7",
        "collapsed": true,
        "id": "YWj9Jz3b276z"
      },
      "cell_type": "code",
      "source": [
        "M = df.values\n",
        "X = M[:, :-1]\n",
        "y = M[:, -1].astype(int)"
      ],
      "execution_count": null,
      "outputs": []
    },
    {
      "metadata": {
        "trusted": true,
        "_uuid": "504d95532114efa4cc581d80bf02159c3ce519c6",
        "collapsed": true,
        "id": "aBJxz8a4276z"
      },
      "cell_type": "code",
      "source": [
        "del df\n",
        "del df2\n",
        "del M"
      ],
      "execution_count": null,
      "outputs": []
    },
    {
      "metadata": {
        "_uuid": "425c4b7abe39a14c6f81f8a71094cc1024276935",
        "id": "_nlkDfDb276z"
      },
      "cell_type": "markdown",
      "source": [
        "## Visual Input"
      ]
    },
    {
      "metadata": {
        "trusted": true,
        "_uuid": "bcd502ecd1eb95bbf8af983396d3d0c3fb50ce4b",
        "collapsed": true,
        "id": "iiXz_FNd276z"
      },
      "cell_type": "code",
      "source": [
        "C0 = np.argwhere(y == 0).flatten()\n",
        "C1 = np.argwhere(y == 1).flatten()\n",
        "C2 = np.argwhere(y == 2).flatten()\n",
        "C3 = np.argwhere(y == 3).flatten()\n",
        "C4 = np.argwhere(y == 4).flatten()"
      ],
      "execution_count": null,
      "outputs": []
    },
    {
      "metadata": {
        "trusted": true,
        "_uuid": "85209065f110cea77f4d65053d1164e9ee816049",
        "collapsed": true,
        "id": "QtKmc39A276z"
      },
      "cell_type": "code",
      "source": [
        "x = np.arange(0, 187)*8/1000\n",
        "\n",
        "plt.figure(figsize=(20,6))\n",
        "plt.plot(x, X[C0, :][0], label=\"Normal\")\n",
        "plt.plot(x, X[C1, :][0], label=\"Artial Premature\")\n",
        "plt.plot(x, X[C2, :][0], label=\"Premature ventricular conraction\")\n",
        "plt.plot(x, X[C3, :][0], label=\"Fusion of ventricular and normal\")\n",
        "plt.plot(x, X[C4, :][0], label=\"Fusion of paced and normal\")\n",
        "plt.legend()\n",
        "plt.title(\"1-beat ECG for every category\", fontsize=20)\n",
        "plt.ylabel(\"Amplitude\", fontsize=15)\n",
        "plt.xlabel(\"Time (ms)\", fontsize=15)\n",
        "plt.show()"
      ],
      "execution_count": null,
      "outputs": []
    },
    {
      "metadata": {
        "_uuid": "c269ab78773e4b5a960a5e55d2b48c53d5f9c446",
        "id": "RACbvWby276z"
      },
      "cell_type": "markdown",
      "source": [
        "## Data augmentation\n",
        "\n",
        "To train properly the model, we sould have to augment all data to the same level. Nevertheless, for a first try, we will just augment the smallest class to the same level as class 1. With that we will be able to have a test set of around 5x800 observations."
      ]
    },
    {
      "metadata": {
        "trusted": true,
        "_uuid": "a332bfa2765ee6f5d49320c9d8f0b9c5795a4843",
        "collapsed": true,
        "id": "GqGIve-R276z"
      },
      "cell_type": "code",
      "source": [
        "def stretch(x):\n",
        "    l = int(187 * (1 + (random.random()-0.5)/3))\n",
        "    y = resample(x, l)\n",
        "    if l < 187:\n",
        "        y_ = np.zeros(shape=(187, ))\n",
        "        y_[:l] = y\n",
        "    else:\n",
        "        y_ = y[:187]\n",
        "    return y_\n",
        "\n",
        "def amplify(x):\n",
        "    alpha = (random.random()-0.5)\n",
        "    factor = -alpha*x + (1+alpha)\n",
        "    return x*factor\n",
        "\n",
        "def augment(x):\n",
        "    result = np.zeros(shape= (4, 187))\n",
        "    for i in range(3):\n",
        "        if random.random() < 0.33:\n",
        "            new_y = stretch(x)\n",
        "        elif random.random() < 0.66:\n",
        "            new_y = amplify(x)\n",
        "        else:\n",
        "            new_y = stretch(x)\n",
        "            new_y = amplify(new_y)\n",
        "        result[i, :] = new_y\n",
        "    return result"
      ],
      "execution_count": null,
      "outputs": []
    },
    {
      "metadata": {
        "trusted": true,
        "_uuid": "8673145476e0307f487a502e3590b76f2589acef",
        "collapsed": true,
        "id": "3Xz7tHvR276z"
      },
      "cell_type": "code",
      "source": [
        "plt.plot(X[0, :])\n",
        "plt.plot(amplify(X[0, :]))\n",
        "plt.plot(stretch(X[0, :]))\n",
        "plt.show()"
      ],
      "execution_count": null,
      "outputs": []
    },
    {
      "metadata": {
        "trusted": true,
        "_uuid": "43f671858db58465b14b7fd7656ffa8381f7ea86",
        "collapsed": true,
        "id": "Pm6Clcwp2760"
      },
      "cell_type": "code",
      "source": [
        "result = np.apply_along_axis(augment, axis=1, arr=X[C3]).reshape(-1, 187)\n",
        "classe = np.ones(shape=(result.shape[0],), dtype=int)*3\n",
        "X = np.vstack([X, result])\n",
        "y = np.hstack([y, classe])"
      ],
      "execution_count": null,
      "outputs": []
    },
    {
      "metadata": {
        "_uuid": "c42605d020fd51885437f4af3cf10cebbeafc9bb",
        "id": "rtmjaUc32760"
      },
      "cell_type": "markdown",
      "source": [
        "## Split Dataset"
      ]
    },
    {
      "metadata": {
        "trusted": true,
        "_uuid": "c136b567ed0cf450ed0476464c3b59d1ff1bb032",
        "collapsed": true,
        "id": "y0936Nod2760"
      },
      "cell_type": "code",
      "source": [
        "# randomly choose 800 data as Testset\n",
        "subC0 = np.random.choice(C0, 800)\n",
        "subC1 = np.random.choice(C1, 800)\n",
        "subC2 = np.random.choice(C2, 800)\n",
        "subC3 = np.random.choice(C3, 800)\n",
        "subC4 = np.random.choice(C4, 800)"
      ],
      "execution_count": null,
      "outputs": []
    },
    {
      "metadata": {
        "trusted": true,
        "_uuid": "52573d0c3a715cd693e682227d01f5a73549e421",
        "collapsed": true,
        "id": "_PJcpRvn2760"
      },
      "cell_type": "code",
      "source": [
        "# Testset = 800x5 = 4000\n",
        "X_test = np.vstack([X[subC0], X[subC1], X[subC2], X[subC3], X[subC4]])\n",
        "y_test = np.hstack([y[subC0], y[subC1], y[subC2], y[subC3], y[subC4]])\n",
        "# Trainset = remove testset from dataset\n",
        "X_train = np.delete(X, [subC0, subC1, subC2, subC3, subC4], axis=0)\n",
        "y_train = np.delete(y, [subC0, subC1, subC2, subC3, subC4], axis=0)\n",
        "\n",
        "X_train, y_train = shuffle(X_train, y_train, random_state=0)\n",
        "X_test, y_test = shuffle(X_test, y_test, random_state=0)\n",
        "\n",
        "del X\n",
        "del y"
      ],
      "execution_count": null,
      "outputs": []
    },
    {
      "metadata": {
        "trusted": true,
        "_uuid": "7ae5108c9741b85f0f599cce51daf99df4733ed1",
        "collapsed": true,
        "id": "_nfUjlEa2760"
      },
      "cell_type": "code",
      "source": [
        "X_train = np.expand_dims(X_train, 2)\n",
        "X_test = np.expand_dims(X_test, 2)"
      ],
      "execution_count": null,
      "outputs": []
    },
    {
      "metadata": {
        "trusted": true,
        "_uuid": "cbd350e57b2a44b4bf6a79f02c32dabb803e4855",
        "collapsed": true,
        "id": "GIHN8gsl2760"
      },
      "cell_type": "code",
      "source": [
        "print(\"X_train\", X_train.shape)\n",
        "print(\"y_train\", y_train.shape)\n",
        "print(\"X_test\", X_test.shape)\n",
        "print(\"y_test\", y_test.shape)"
      ],
      "execution_count": null,
      "outputs": []
    },
    {
      "metadata": {
        "trusted": true,
        "_uuid": "5ddf1e7b397de3c413fc991945d2d7f09df67da1",
        "collapsed": true,
        "id": "XqEL-AnD2760"
      },
      "cell_type": "code",
      "source": [
        "ohe = OneHotEncoder()\n",
        "y_train = ohe.fit_transform(y_train.reshape(-1,1))\n",
        "y_test = ohe.transform(y_test.reshape(-1,1))"
      ],
      "execution_count": null,
      "outputs": []
    },
    {
      "metadata": {
        "trusted": true,
        "_uuid": "16c106c2702045790367fc49d7223560fc613d75",
        "collapsed": true,
        "id": "VyrsvpLL2760"
      },
      "cell_type": "code",
      "source": [
        "print(\"X_train\", X_train.shape)\n",
        "print(\"y_train\", y_train.shape)\n",
        "print(\"X_test\", X_test.shape)\n",
        "print(\"y_test\", y_test.shape)"
      ],
      "execution_count": null,
      "outputs": []
    },
    {
      "metadata": {
        "_uuid": "c4de23b85abe34a726eab268171da0e827bafa35",
        "id": "vON7Acb-2760"
      },
      "cell_type": "markdown",
      "source": [
        "## Build Model"
      ]
    },
    {
      "metadata": {
        "id": "KY0sHEqc2760"
      },
      "cell_type": "markdown",
      "source": [
        "![image.png](attachment:image.png)"
      ]
    },
    {
      "metadata": {
        "trusted": true,
        "_uuid": "fb0dc9775ddfa761c0ad948d59020fcbd2681c57",
        "collapsed": true,
        "id": "TY5FFMnE2760"
      },
      "cell_type": "code",
      "source": [
        "n_obs, feature, depth = X_train.shape\n",
        "batch_size = 100"
      ],
      "execution_count": null,
      "outputs": []
    },
    {
      "metadata": {
        "trusted": true,
        "_uuid": "e70fab0b07290e042ba9cd7c6cba37462a457b03",
        "collapsed": true,
        "id": "45axzz-Y2760"
      },
      "cell_type": "code",
      "source": [
        "# Build Model\n",
        "inp = Input(shape=(feature, depth))\n",
        "C = Conv1D(filters=32, kernel_size=5, strides=1)(inp)\n",
        "\n",
        "C11 = Conv1D(filters=32, kernel_size=5, strides=1, padding='same')(C)\n",
        "A11 = Activation(\"relu\")(C11)\n",
        "C12 = Conv1D(filters=32, kernel_size=5, strides=1, padding='same')(A11)\n",
        "S11 = Add()([C12, C])\n",
        "A12 = Activation(\"relu\")(S11)\n",
        "M11 = MaxPooling1D(pool_size=5, strides=2)(A12)\n",
        "\n",
        "\n",
        "C21 = Conv1D(filters=32, kernel_size=5, strides=1, padding='same')(M11)\n",
        "A21 = Activation(\"relu\")(C21)\n",
        "C22 = Conv1D(filters=32, kernel_size=5, strides=1, padding='same')(A21)\n",
        "S21 = Add()([C22, M11])\n",
        "A22 = Activation(\"relu\")(S11)\n",
        "M21 = MaxPooling1D(pool_size=5, strides=2)(A22)\n",
        "\n",
        "\n",
        "C31 = Conv1D(filters=32, kernel_size=5, strides=1, padding='same')(M21)\n",
        "A31 = Activation(\"relu\")(C31)\n",
        "C32 = Conv1D(filters=32, kernel_size=5, strides=1, padding='same')(A31)\n",
        "S31 = Add()([C32, M21])\n",
        "A32 = Activation(\"relu\")(S31)\n",
        "M31 = MaxPooling1D(pool_size=5, strides=2)(A32)\n",
        "\n",
        "\n",
        "C41 = Conv1D(filters=32, kernel_size=5, strides=1, padding='same')(M31)\n",
        "A41 = Activation(\"relu\")(C41)\n",
        "C42 = Conv1D(filters=32, kernel_size=5, strides=1, padding='same')(A41)\n",
        "S41 = Add()([C42, M31])\n",
        "A42 = Activation(\"relu\")(S41)\n",
        "M41 = MaxPooling1D(pool_size=5, strides=2)(A42)\n",
        "\n",
        "\n",
        "C51 = Conv1D(filters=32, kernel_size=5, strides=1, padding='same')(M41)\n",
        "A51 = Activation(\"relu\")(C51)\n",
        "C52 = Conv1D(filters=32, kernel_size=5, strides=1, padding='same')(A51)\n",
        "S51 = Add()([C52, M41])\n",
        "A52 = Activation(\"relu\")(S51)\n",
        "M51 = MaxPooling1D(pool_size=5, strides=2)(A52)\n",
        "\n",
        "F1 = Flatten()(M51)\n",
        "\n",
        "D1 = Dense(32)(F1)\n",
        "A6 = Activation(\"relu\")(D1)\n",
        "D2 = Dense(32)(A6)\n",
        "D3 = Dense(5)(D2)\n",
        "A7 = Softmax()(D3)\n",
        "\n",
        "model = Model(inputs=inp, outputs=A7)\n",
        "\n",
        "model.summary()"
      ],
      "execution_count": null,
      "outputs": []
    },
    {
      "metadata": {
        "trusted": true,
        "_uuid": "812e637ae56f6a4be9c8e98d3b501cfb11ef78cb",
        "collapsed": true,
        "id": "ZGt1jTF72761"
      },
      "cell_type": "code",
      "source": [
        "# Compile Model\n",
        "model.compile(loss='categorical_crossentropy', optimizer='adam', metrics=['accuracy'])"
      ],
      "execution_count": null,
      "outputs": []
    },
    {
      "metadata": {
        "id": "4WrkqHaK2761"
      },
      "cell_type": "markdown",
      "source": [
        "## Train Model"
      ]
    },
    {
      "metadata": {
        "trusted": true,
        "collapsed": true,
        "id": "38_oGveQ2761"
      },
      "cell_type": "code",
      "source": [
        "# train more epochs to increase accuracy\n",
        "num_epochs = 10 # 75"
      ],
      "execution_count": null,
      "outputs": []
    },
    {
      "metadata": {
        "trusted": true,
        "_uuid": "1e6ef643f6a55ab5b3c1b46126832c3ac45a6a2b",
        "collapsed": true,
        "id": "mecgFnCJ2761"
      },
      "cell_type": "code",
      "source": [
        "# Train Model\n",
        "history = model.fit(X_train, y_train, epochs=num_epochs, batch_size=batch_size, validation_data=(X_test, y_test))"
      ],
      "execution_count": null,
      "outputs": []
    },
    {
      "metadata": {
        "id": "IksIklXh2761"
      },
      "cell_type": "markdown",
      "source": [
        "## Save Model"
      ]
    },
    {
      "metadata": {
        "trusted": true,
        "collapsed": true,
        "id": "ix4oyMiE2766"
      },
      "cell_type": "code",
      "source": [
        "# Save Model\n",
        "model.save(\"ecg_arrhythmia.h5\")"
      ],
      "execution_count": null,
      "outputs": []
    },
    {
      "metadata": {
        "id": "XA_GxlPL2766"
      },
      "cell_type": "markdown",
      "source": [
        "## Test Model"
      ]
    },
    {
      "metadata": {
        "trusted": true,
        "_uuid": "d43023d26a87e3c4702b96bea5962c990c76aa0a",
        "collapsed": true,
        "id": "aqqH-rVx2766"
      },
      "cell_type": "code",
      "source": [
        "# Test Model\n",
        "y_pred = model.predict(X_test, batch_size=1000)"
      ],
      "execution_count": null,
      "outputs": []
    },
    {
      "metadata": {
        "trusted": true,
        "_uuid": "20cfe7f5891e3c26c599fa4cd728ac0a499ac70e",
        "collapsed": true,
        "id": "X4lRYcq02766"
      },
      "cell_type": "code",
      "source": [
        "print(classification_report(y_test.argmax(axis=1), y_pred.argmax(axis=1)))"
      ],
      "execution_count": null,
      "outputs": []
    },
    {
      "metadata": {
        "trusted": true,
        "_uuid": "017f2431a45766fb0d4b2ef17ce613c1142ca085",
        "collapsed": true,
        "id": "aCihleNB2766"
      },
      "cell_type": "code",
      "source": [
        "print(\"ranking-based average precision : {:.3f}\".format(label_ranking_average_precision_score(y_test.todense(), y_pred)))\n",
        "print(\"Ranking loss : {:.3f}\".format(label_ranking_loss(y_test.todense(), y_pred)))\n",
        "print(\"Coverage_error : {:.3f}\".format(coverage_error(y_test.todense(), y_pred)))"
      ],
      "execution_count": null,
      "outputs": []
    },
    {
      "metadata": {
        "trusted": true,
        "collapsed": true,
        "id": "E5MqrW9r2766"
      },
      "cell_type": "code",
      "source": [],
      "execution_count": null,
      "outputs": []
    }
  ],
  "metadata": {
    "kernelspec": {
      "language": "python",
      "display_name": "Python 3",
      "name": "python3"
    },
    "language_info": {
      "pygments_lexer": "ipython3",
      "nbconvert_exporter": "python",
      "version": "3.6.4",
      "file_extension": ".py",
      "codemirror_mode": {
        "name": "ipython",
        "version": 3
      },
      "name": "python",
      "mimetype": "text/x-python"
    },
    "colab": {
      "provenance": []
    }
  },
  "nbformat": 4,
  "nbformat_minor": 0
}